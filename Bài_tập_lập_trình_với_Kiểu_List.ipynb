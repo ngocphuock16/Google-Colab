{
  "nbformat": 4,
  "nbformat_minor": 0,
  "metadata": {
    "colab": {
      "name": "Bài tập lập trình với Kiểu List.ipynb",
      "provenance": [],
      "authorship_tag": "ABX9TyNd0lBz1IcJ57mkyZs5+9D0",
      "include_colab_link": true
    },
    "kernelspec": {
      "name": "python3",
      "display_name": "Python 3"
    }
  },
  "cells": [
    {
      "cell_type": "markdown",
      "metadata": {
        "id": "view-in-github",
        "colab_type": "text"
      },
      "source": [
        "<a href=\"https://colab.research.google.com/github/ngocphuock16/Google-Colab/blob/main/B%C3%A0i_t%E1%BA%ADp_l%E1%BA%ADp_tr%C3%ACnh_v%E1%BB%9Bi_Ki%E1%BB%83u_List.ipynb\" target=\"_parent\"><img src=\"https://colab.research.google.com/assets/colab-badge.svg\" alt=\"Open In Colab\"/></a>"
      ]
    },
    {
      "cell_type": "markdown",
      "metadata": {
        "id": "95xiyuZ0aXxE"
      },
      "source": [
        "1) Tạo một biến x kiểu List rỗng"
      ]
    },
    {
      "cell_type": "code",
      "metadata": {
        "id": "z_HLLOYyaNk2"
      },
      "source": [
        "x=[]"
      ],
      "execution_count": null,
      "outputs": []
    },
    {
      "cell_type": "markdown",
      "metadata": {
        "id": "CXSicMeDahq-"
      },
      "source": [
        "2) Thêm giá trị 18 vào x"
      ]
    },
    {
      "cell_type": "code",
      "metadata": {
        "id": "AkxvVl52afT3"
      },
      "source": [
        "x.append(18)"
      ],
      "execution_count": null,
      "outputs": []
    },
    {
      "cell_type": "markdown",
      "metadata": {
        "id": "ZhObshc5av6i"
      },
      "source": [
        "3)Thêm giá trị \"Huế\" vào x"
      ]
    },
    {
      "cell_type": "code",
      "metadata": {
        "id": "Xx8WnQ0AazW2"
      },
      "source": [
        "x.append(\"Hue\")"
      ],
      "execution_count": null,
      "outputs": []
    },
    {
      "cell_type": "markdown",
      "metadata": {
        "id": "v5139gMxgm35"
      },
      "source": [
        "4) Tạo 1 List  y = [12, 45, -1, -0.56, \"abc\"]"
      ]
    },
    {
      "cell_type": "code",
      "metadata": {
        "id": "4O9PABhygq59"
      },
      "source": [
        "y=[12,45,-1,-0,56,\"abc\"]"
      ],
      "execution_count": 7,
      "outputs": []
    },
    {
      "cell_type": "markdown",
      "metadata": {
        "id": "c6sAxQzHguwP"
      },
      "source": [
        "5) Thêm y vào x"
      ]
    },
    {
      "cell_type": "code",
      "metadata": {
        "id": "4bHbcwd7gxoM"
      },
      "source": [
        "x.extend(y)"
      ],
      "execution_count": 8,
      "outputs": []
    },
    {
      "cell_type": "markdown",
      "metadata": {
        "id": "NiPL-4u7gzqp"
      },
      "source": [
        "6) Xuất giá trị của x ra màn hình"
      ]
    },
    {
      "cell_type": "code",
      "metadata": {
        "colab": {
          "base_uri": "https://localhost:8080/"
        },
        "id": "qPqd503Zg1If",
        "outputId": "b98417d5-356d-467a-9ba7-2bf84daf8190"
      },
      "source": [
        "print(x)"
      ],
      "execution_count": 9,
      "outputs": [
        {
          "output_type": "stream",
          "text": [
            "[18, 'Hue', 12, 45, -1, 0, 56, 'abc']\n"
          ],
          "name": "stdout"
        }
      ]
    },
    {
      "cell_type": "markdown",
      "metadata": {
        "id": "rF5rx1ophEJk"
      },
      "source": [
        "7) In ra màn hình giá trị của phần tử cuối cùng và phần tử đầu tiên của x"
      ]
    },
    {
      "cell_type": "code",
      "metadata": {
        "colab": {
          "base_uri": "https://localhost:8080/"
        },
        "id": "p2LkUFKChEyc",
        "outputId": "7dbe1d23-8e30-45c2-8c80-63d62fa3935c"
      },
      "source": [
        "print(x[0],\",\",x[-1])"
      ],
      "execution_count": 10,
      "outputs": [
        {
          "output_type": "stream",
          "text": [
            "18 , abc\n"
          ],
          "name": "stdout"
        }
      ]
    },
    {
      "cell_type": "markdown",
      "metadata": {
        "id": "kNyt_2WzhJZs"
      },
      "source": [
        "8) In ra màn hình giá trị của phần tử đầu tiên đến phần tử thứ 5 của x"
      ]
    },
    {
      "cell_type": "code",
      "metadata": {
        "colab": {
          "base_uri": "https://localhost:8080/"
        },
        "id": "8V-w7Ay2hLT7",
        "outputId": "ae896a8e-729d-40cc-820a-12fa103f30a7"
      },
      "source": [
        "print(x[0:5])"
      ],
      "execution_count": 11,
      "outputs": [
        {
          "output_type": "stream",
          "text": [
            "[18, 'Hue', 12, 45, -1]\n"
          ],
          "name": "stdout"
        }
      ]
    },
    {
      "cell_type": "markdown",
      "metadata": {
        "id": "Eh2fzeq6hN_n"
      },
      "source": [
        "9) In ra màn hình giá trị của phần từ thứ 3 đến cuối cùng của x"
      ]
    },
    {
      "cell_type": "code",
      "metadata": {
        "colab": {
          "base_uri": "https://localhost:8080/"
        },
        "id": "csNyAseyhNbv",
        "outputId": "bd054e56-b2c9-4bb3-fbec-df4afab256b2"
      },
      "source": [
        "print(x[2:])"
      ],
      "execution_count": 12,
      "outputs": [
        {
          "output_type": "stream",
          "text": [
            "[12, 45, -1, 0, 56, 'abc']\n"
          ],
          "name": "stdout"
        }
      ]
    }
  ]
}