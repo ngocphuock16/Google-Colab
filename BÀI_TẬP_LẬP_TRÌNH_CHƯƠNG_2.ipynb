{
  "nbformat": 4,
  "nbformat_minor": 0,
  "metadata": {
    "colab": {
      "name": "BÀI TẬP LẬP TRÌNH CHƯƠNG 2.ipynb",
      "provenance": [],
      "authorship_tag": "ABX9TyMUS7BiDnmydJf3L0qxepBq",
      "include_colab_link": true
    },
    "kernelspec": {
      "name": "python3",
      "display_name": "Python 3"
    }
  },
  "cells": [
    {
      "cell_type": "markdown",
      "metadata": {
        "id": "view-in-github",
        "colab_type": "text"
      },
      "source": [
        "<a href=\"https://colab.research.google.com/github/ngocphuock16/Google-Colab/blob/main/B%C3%80I_T%E1%BA%ACP_L%E1%BA%ACP_TR%C3%8CNH_CH%C6%AF%C6%A0NG_2.ipynb\" target=\"_parent\"><img src=\"https://colab.research.google.com/assets/colab-badge.svg\" alt=\"Open In Colab\"/></a>"
      ]
    },
    {
      "cell_type": "markdown",
      "metadata": {
        "id": "ZtFoRsX_1KID"
      },
      "source": [
        "**Bài 1: Lập trình nhập vào từ bàn phím 2 số nguyên và tính:**"
      ]
    },
    {
      "cell_type": "markdown",
      "metadata": {
        "id": "uOCdQLvS1MaR"
      },
      "source": [
        "1. Tổng của 2 số\r\n"
      ]
    },
    {
      "cell_type": "code",
      "metadata": {
        "colab": {
          "base_uri": "https://localhost:8080/"
        },
        "id": "XYPYWEjQwrgm",
        "outputId": "f63671be-1e58-4f28-ae46-b4b3d21bcb5d"
      },
      "source": [
        "a = input(\"a=\")\r\n",
        "b= input(\"b=\")\r\n",
        "a = int(a)\r\n",
        "b= int(b)\r\n",
        "c=a+b\r\n",
        "print(\"a+b=\",c)"
      ],
      "execution_count": 3,
      "outputs": [
        {
          "output_type": "stream",
          "text": [
            "a=5\n",
            "b=3\n",
            "a+b= 8\n"
          ],
          "name": "stdout"
        }
      ]
    },
    {
      "cell_type": "markdown",
      "metadata": {
        "id": "AA0edDZW1dn_"
      },
      "source": [
        "2. Tích của 2 số\r\n"
      ]
    },
    {
      "cell_type": "code",
      "metadata": {
        "colab": {
          "base_uri": "https://localhost:8080/"
        },
        "id": "6kng1x5W1f2H",
        "outputId": "08e8567c-3933-4931-8799-9ef83646f3f8"
      },
      "source": [
        "a = input(\"a=\")\r\n",
        "b= input(\"b=\")\r\n",
        "a = int(a)\r\n",
        "b= int(b)\r\n",
        "c=a*b\r\n",
        "print(\"a*b=\",c)"
      ],
      "execution_count": 5,
      "outputs": [
        {
          "output_type": "stream",
          "text": [
            "a=3\n",
            "b=2\n",
            "a*b= 6\n"
          ],
          "name": "stdout"
        }
      ]
    },
    {
      "cell_type": "markdown",
      "metadata": {
        "id": "OrUY4m-04MpF"
      },
      "source": [
        "3. Hiệu của 2 số\r\n"
      ]
    },
    {
      "cell_type": "code",
      "metadata": {
        "colab": {
          "base_uri": "https://localhost:8080/"
        },
        "id": "8yvDJPYr4YJ5",
        "outputId": "bb631b18-cccd-48da-f7b1-8c08360c38fc"
      },
      "source": [
        "a = input(\"a=\")\r\n",
        "b= input(\"b=\")\r\n",
        "a = int(a)\r\n",
        "b= int(b)\r\n",
        "c=a-b\r\n",
        "print(\"a-b=\",c)"
      ],
      "execution_count": 6,
      "outputs": [
        {
          "output_type": "stream",
          "text": [
            "a=5\n",
            "b=2\n",
            "a-b= 3\n"
          ],
          "name": "stdout"
        }
      ]
    },
    {
      "cell_type": "markdown",
      "metadata": {
        "id": "dlkeEFSd4dX1"
      },
      "source": [
        "4. Phép chia lấy phần dư của 2 số\r\n"
      ]
    },
    {
      "cell_type": "code",
      "metadata": {
        "colab": {
          "base_uri": "https://localhost:8080/"
        },
        "id": "9jNq7jSe4h6F",
        "outputId": "eee3ec90-bb78-4207-e5c1-8c9d2bcdaa39"
      },
      "source": [
        "a = input(\"a=\")\r\n",
        "b= input(\"b=\")\r\n",
        "a = int(a)\r\n",
        "b= int(b)\r\n",
        "c=a%b\r\n",
        "print(\"a%b=\",c)"
      ],
      "execution_count": 7,
      "outputs": [
        {
          "output_type": "stream",
          "text": [
            "a=5\n",
            "b=3\n",
            "a%b= 2\n"
          ],
          "name": "stdout"
        }
      ]
    },
    {
      "cell_type": "markdown",
      "metadata": {
        "id": "wgLAQ4QU4wgp"
      },
      "source": [
        "5. Phép chia lấy phần nguyên của 2 số\r\n"
      ]
    },
    {
      "cell_type": "code",
      "metadata": {
        "colab": {
          "base_uri": "https://localhost:8080/"
        },
        "id": "AasdHXAO4z6U",
        "outputId": "1e0c591f-3f9c-4915-d41b-d2fab798df4d"
      },
      "source": [
        "a = input(\"a=\")\r\n",
        "b= input(\"b=\")\r\n",
        "a = int(a)\r\n",
        "b= int(b)\r\n",
        "c=a//b\r\n",
        "print(\"a//b=\",c)"
      ],
      "execution_count": 8,
      "outputs": [
        {
          "output_type": "stream",
          "text": [
            "a=6\n",
            "b=4\n",
            "a//b= 1\n"
          ],
          "name": "stdout"
        }
      ]
    },
    {
      "cell_type": "markdown",
      "metadata": {
        "id": "CSgmHLOG5AUl"
      },
      "source": [
        "**Bài 2: Lập trình nhập vào từ bàn phím 2 số thực và tính:**"
      ]
    },
    {
      "cell_type": "code",
      "metadata": {
        "id": "cNq2maOq5Gmn"
      },
      "source": [
        "1. Tổng của 2 số"
      ],
      "execution_count": null,
      "outputs": []
    },
    {
      "cell_type": "code",
      "metadata": {
        "colab": {
          "base_uri": "https://localhost:8080/"
        },
        "id": "QeK3ba-g5MLH",
        "outputId": "611d53dc-5bb6-44c8-fa59-4908d07dad0c"
      },
      "source": [
        "a = input(\"a=\")\r\n",
        "b= input(\"b=\")\r\n",
        "a = float(a)\r\n",
        "b= float(b)\r\n",
        "c=a+b\r\n",
        "d=a-b\r\n",
        "e=a*b\r\n",
        "f=a/b\r\n",
        "\r\n",
        "print(\"a+b=\",c)\r\n",
        "print(\"a-b=\",d)\r\n",
        "print(\"a*b=\",e)\r\n",
        "print(\"a%b=\",f)"
      ],
      "execution_count": 9,
      "outputs": [
        {
          "output_type": "stream",
          "text": [
            "a=4\n",
            "b=3\n",
            "a+b= 7.0\n",
            "a-b= 1.0\n",
            "a*b= 12.0\n",
            "a%b= 1.3333333333333333\n"
          ],
          "name": "stdout"
        }
      ]
    },
    {
      "cell_type": "markdown",
      "metadata": {
        "id": "j24EiqGS5YY4"
      },
      "source": [
        "**Bài 3: (Sử dụng các hàm toán học) Nhập một số từ bàn phím và tính:**\r\n",
        "\r\n"
      ]
    },
    {
      "cell_type": "markdown",
      "metadata": {
        "id": "MSeTSIIH5sQF"
      },
      "source": [
        "1. Trị tuyệt đối\r\n"
      ]
    },
    {
      "cell_type": "code",
      "metadata": {
        "colab": {
          "base_uri": "https://localhost:8080/"
        },
        "id": "ktNDf0ym5bdq",
        "outputId": "87a4ec5f-8bc5-4e2e-d6d8-55c435b937db"
      },
      "source": [
        "a = input(\"a=\")\r\n",
        "a = float(a)\r\n",
        "print(\"Trị tuyết đối của\" ,a,\"là\",abs(a))\r\n"
      ],
      "execution_count": 13,
      "outputs": [
        {
          "output_type": "stream",
          "text": [
            "a=-3\n",
            "Trị tuyết đối của -3.0 là 3.0\n"
          ],
          "name": "stdout"
        }
      ]
    },
    {
      "cell_type": "markdown",
      "metadata": {
        "id": "c_WoqBhz6oeS"
      },
      "source": [
        "2. Lấy phần nguyên của số\r\n",
        "\r\n"
      ]
    },
    {
      "cell_type": "code",
      "metadata": {
        "colab": {
          "base_uri": "https://localhost:8080/"
        },
        "id": "T7roO8bg7GhZ",
        "outputId": "07b98290-d22a-425a-faf7-1c01c21eb4fc"
      },
      "source": [
        "a = input(\"a=\")\r\n",
        "b=1\r\n",
        "a = float(a)\r\n",
        "print(\"Phần nguyên của\",a,\"là\",a//b)"
      ],
      "execution_count": 15,
      "outputs": [
        {
          "output_type": "stream",
          "text": [
            "a=5.3\n",
            "Phần nguyên của 5.3 là 5.0\n"
          ],
          "name": "stdout"
        }
      ]
    },
    {
      "cell_type": "markdown",
      "metadata": {
        "id": "Vtg4zvku7NHE"
      },
      "source": [
        "3. Chuyển đổi thành số thực\r\n"
      ]
    },
    {
      "cell_type": "code",
      "metadata": {
        "colab": {
          "base_uri": "https://localhost:8080/"
        },
        "id": "EU9bmddV7OW7",
        "outputId": "e0e792b8-9e52-44ed-b1ff-185df9ed5fcb"
      },
      "source": [
        "a = input(\"a=\")\r\n",
        "a = float(a)\r\n",
        "print(a)"
      ],
      "execution_count": 17,
      "outputs": [
        {
          "output_type": "stream",
          "text": [
            "a=3\n",
            "3.0\n"
          ],
          "name": "stdout"
        }
      ]
    },
    {
      "cell_type": "markdown",
      "metadata": {
        "id": "zhNCBUFi727J"
      },
      "source": [
        "4. (nhập thêm 1 số từ bàn phím) và tính lũy thừa  x^y "
      ]
    },
    {
      "cell_type": "code",
      "metadata": {
        "colab": {
          "base_uri": "https://localhost:8080/"
        },
        "id": "iTJZiFV-77A8",
        "outputId": "8ba3813a-1969-4428-a68b-ce98d0a3e49c"
      },
      "source": [
        "x=input(\"x=\")\r\n",
        "y=input(\"y=\")\r\n",
        "x=int(x)\r\n",
        "y=int(y)\r\n",
        "z=pow(x,y)\r\n",
        "print(z)"
      ],
      "execution_count": 18,
      "outputs": [
        {
          "output_type": "stream",
          "text": [
            "x=2\n",
            "y=3\n",
            "8\n"
          ],
          "name": "stdout"
        }
      ]
    },
    {
      "cell_type": "markdown",
      "metadata": {
        "id": "SeCsHOMk81wT"
      },
      "source": [
        "5. Tính căn bậc hai\r\n"
      ]
    },
    {
      "cell_type": "code",
      "metadata": {
        "colab": {
          "base_uri": "https://localhost:8080/"
        },
        "id": "Zuy0884L9AZg",
        "outputId": "e2fadd1d-f2cc-4073-aad4-9c753577fc85"
      },
      "source": [
        "import math\r\n",
        "a=input(\"a=\")\r\n",
        "a=float(a)\r\n",
        "print(\"Căn\",a,\"=\",math.sqrt(a))"
      ],
      "execution_count": 21,
      "outputs": [
        {
          "output_type": "stream",
          "text": [
            "a=25\n",
            "Căn 25.0 = 5.0\n"
          ],
          "name": "stdout"
        }
      ]
    },
    {
      "cell_type": "markdown",
      "metadata": {
        "id": "C92Wsv_n94Kw"
      },
      "source": [
        "**Bài 4: Nhập 2 số từ bàn phím và thực hiện các phép so sánh sau giữa 2 số:**"
      ]
    },
    {
      "cell_type": "code",
      "metadata": {
        "colab": {
          "base_uri": "https://localhost:8080/"
        },
        "id": "3dwDmQMP_M6l",
        "outputId": "1013b2dc-3851-4b44-9612-0f77340911e0"
      },
      "source": [
        "a=float(input(\"a=\"))\r\n",
        "b=float(input(\"b=\"))\r\n",
        "print(\"a>=b\",a>=b)\r\n",
        "print(\"a<=b\",a<=b)\r\n",
        "print(\"a>b\",a>b)\r\n",
        "print(\"a<b\",a<b)\r\n",
        "print(\"a!=b\",a!=b)\r\n"
      ],
      "execution_count": 24,
      "outputs": [
        {
          "output_type": "stream",
          "text": [
            "a=4\n",
            "b=3\n",
            "a>=b True\n",
            "a<=b False\n",
            "a>b True\n",
            "a<b False\n",
            "a!=b True\n"
          ],
          "name": "stdout"
        }
      ]
    },
    {
      "cell_type": "markdown",
      "metadata": {
        "id": "P2O8PTTRCApF"
      },
      "source": [
        "**Bài 5: Nhập 1 chuỗi ký tự từ bàn phím:**"
      ]
    },
    {
      "cell_type": "markdown",
      "metadata": {
        "id": "F9rTvy-bC7tz"
      },
      "source": [
        "1. Chuyển thành chuỗi in hoa"
      ]
    },
    {
      "cell_type": "code",
      "metadata": {
        "colab": {
          "base_uri": "https://localhost:8080/"
        },
        "id": "GZUEYiQKCAXJ",
        "outputId": "3cbead17-ec72-4812-8516-48ddce05845a"
      },
      "source": [
        "a=input(\"Nhập chuỗi ký tự:\")\r\n",
        "print(a.upper());"
      ],
      "execution_count": 27,
      "outputs": [
        {
          "output_type": "stream",
          "text": [
            "Nhập chuỗi ký tự:ghgrkhrjr\n",
            "GHGRKHRJR\n"
          ],
          "name": "stdout"
        }
      ]
    },
    {
      "cell_type": "markdown",
      "metadata": {
        "id": "rYAk0b6RDG1E"
      },
      "source": [
        "2. Chuyển thành chuỗi in thường"
      ]
    },
    {
      "cell_type": "code",
      "metadata": {
        "colab": {
          "base_uri": "https://localhost:8080/"
        },
        "id": "joneDcsKDOO6",
        "outputId": "e41ef235-9fe5-4419-fcff-0907c2a77a4e"
      },
      "source": [
        "a=input(\"Nhập chuỗi ký tự:\")\r\n",
        "print(a.title());"
      ],
      "execution_count": 28,
      "outputs": [
        {
          "output_type": "stream",
          "text": [
            "Nhập chuỗi ký tự:HHHMGRGfetg\n",
            "Hhhmgrgfetg\n"
          ],
          "name": "stdout"
        }
      ]
    }
  ]
}